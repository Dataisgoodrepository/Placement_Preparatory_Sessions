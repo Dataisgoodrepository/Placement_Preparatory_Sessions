{
 "cells": [
  {
   "cell_type": "markdown",
   "id": "1dc99082",
   "metadata": {},
   "source": [
    "# DataTypes in Python"
   ]
  },
  {
   "cell_type": "markdown",
   "id": "b33f63c7",
   "metadata": {},
   "source": [
    "Q1. Convert the value of 4.56 to integer."
   ]
  },
  {
   "cell_type": "code",
   "execution_count": null,
   "id": "ce04cc6a",
   "metadata": {},
   "outputs": [],
   "source": []
  },
  {
   "cell_type": "markdown",
   "id": "cd2af3d5",
   "metadata": {},
   "source": [
    "Q2. You have a list of integers [1, 2, 3, 4, 5]. Convert this list into a string where each integer is separated by a comma."
   ]
  },
  {
   "cell_type": "code",
   "execution_count": null,
   "id": "6a815c8f",
   "metadata": {},
   "outputs": [],
   "source": []
  },
  {
   "cell_type": "markdown",
   "id": "39da1aab",
   "metadata": {},
   "source": [
    "Q3. Given the string \"123.456\", convert it into a floating-point number and then into an integer."
   ]
  },
  {
   "cell_type": "code",
   "execution_count": null,
   "id": "bf27d8fa",
   "metadata": {},
   "outputs": [],
   "source": []
  },
  {
   "cell_type": "markdown",
   "id": "0534a5d2",
   "metadata": {},
   "source": [
    "Q4. You have a dictionary {'a': 1, 'b': 2, 'c': 3}. Convert it into a list of tuples."
   ]
  },
  {
   "cell_type": "code",
   "execution_count": null,
   "id": "5da49a74",
   "metadata": {},
   "outputs": [],
   "source": []
  },
  {
   "cell_type": "markdown",
   "id": "2dd21c74",
   "metadata": {},
   "source": [
    "Q5. Given a list of strings ['10', '20', '30']. Write a code to convert all elements to integers."
   ]
  },
  {
   "cell_type": "code",
   "execution_count": null,
   "id": "468e738b",
   "metadata": {},
   "outputs": [],
   "source": [
    "\n"
   ]
  },
  {
   "cell_type": "markdown",
   "id": "0549e45c",
   "metadata": {},
   "source": [
    "## Data Structures"
   ]
  },
  {
   "cell_type": "markdown",
   "id": "9f5d97ee",
   "metadata": {},
   "source": [
    "Q1. Given a list of numbers [1, 2, 3, 4, 5], create a new list using list comprehension where each element is squared."
   ]
  },
  {
   "cell_type": "code",
   "execution_count": null,
   "id": "0d368baa",
   "metadata": {},
   "outputs": [],
   "source": []
  },
  {
   "cell_type": "markdown",
   "id": "864a87d8",
   "metadata": {},
   "source": [
    "Q2. Remove all duplicate elements from the list [1, 2, 2, 3, 4, 4, 5]."
   ]
  },
  {
   "cell_type": "code",
   "execution_count": null,
   "id": "918ea8bb",
   "metadata": {},
   "outputs": [],
   "source": []
  },
  {
   "cell_type": "markdown",
   "id": "5fd82761",
   "metadata": {},
   "source": [
    "Q3. Given a tuple (1, 2, 3, 4, 5), create a new tuple with the elements reversed."
   ]
  },
  {
   "cell_type": "code",
   "execution_count": null,
   "id": "82d02b85",
   "metadata": {},
   "outputs": [],
   "source": []
  },
  {
   "cell_type": "markdown",
   "id": "a22cef50",
   "metadata": {},
   "source": [
    "Q4. Given a dictionary {'a': 1, 'b': 2, 'c': 3}, add a new key-value pair 'd': 4."
   ]
  },
  {
   "cell_type": "code",
   "execution_count": null,
   "id": "68892945",
   "metadata": {},
   "outputs": [],
   "source": []
  },
  {
   "cell_type": "markdown",
   "id": "7e9f4b79",
   "metadata": {},
   "source": [
    "Q5. Merge two dictionaries {'a': 1, 'b': 2} and {'c': 3, 'd': 4}."
   ]
  },
  {
   "cell_type": "code",
   "execution_count": null,
   "id": "328e145e",
   "metadata": {},
   "outputs": [],
   "source": []
  },
  {
   "cell_type": "markdown",
   "id": "b512a4cc",
   "metadata": {},
   "source": [
    "Q6. Given two sets {1, 2, 3} and {3, 4, 5}, find their intersection."
   ]
  },
  {
   "cell_type": "code",
   "execution_count": null,
   "id": "f0e8d582",
   "metadata": {},
   "outputs": [],
   "source": []
  },
  {
   "cell_type": "markdown",
   "id": "a894698d",
   "metadata": {},
   "source": [
    "Q7. Write a function to rotate a list n positions to the right. For example, [1, 2, 3, 4, 5] rotated 2 positions to the right becomes [4, 5, 1, 2, 3]"
   ]
  },
  {
   "cell_type": "code",
   "execution_count": null,
   "id": "b7d84e08",
   "metadata": {},
   "outputs": [],
   "source": []
  },
  {
   "cell_type": "markdown",
   "id": "18ddf56b",
   "metadata": {},
   "source": [
    "Q8. Write a function to flatten a nested list. For example, [[1, 2, [3, 4]], [5, 6]] should become [1, 2, 3, 4, 5, 6]."
   ]
  },
  {
   "cell_type": "code",
   "execution_count": null,
   "id": "b5a70254",
   "metadata": {},
   "outputs": [],
   "source": []
  },
  {
   "cell_type": "markdown",
   "id": "821d5fd3",
   "metadata": {},
   "source": [
    "Q9. Write a function to invert a dictionary, i.e., swap keys and values. For example, {'a': 1, 'b': 2, 'c': 3} should become {1: 'a', 2: 'b', 3: 'c'}."
   ]
  },
  {
   "cell_type": "code",
   "execution_count": null,
   "id": "befada4b",
   "metadata": {},
   "outputs": [],
   "source": []
  },
  {
   "cell_type": "markdown",
   "id": "bd7cbe68",
   "metadata": {},
   "source": [
    "Q10. Write a Python program to swap two variables."
   ]
  },
  {
   "cell_type": "code",
   "execution_count": null,
   "id": "15ee0187",
   "metadata": {},
   "outputs": [],
   "source": []
  },
  {
   "cell_type": "markdown",
   "id": "c5a94070",
   "metadata": {},
   "source": [
    "## Control Flow Statements and Functions"
   ]
  },
  {
   "cell_type": "markdown",
   "id": "6ede171b",
   "metadata": {},
   "source": [
    "Q1. Create a function that returns the factorial of a number."
   ]
  },
  {
   "cell_type": "code",
   "execution_count": null,
   "id": "2e21f749",
   "metadata": {},
   "outputs": [],
   "source": []
  },
  {
   "cell_type": "markdown",
   "id": "43d20981",
   "metadata": {},
   "source": [
    "Q2. Write a program to check if a number is prime."
   ]
  },
  {
   "cell_type": "code",
   "execution_count": null,
   "id": "03b8eeed",
   "metadata": {},
   "outputs": [],
   "source": []
  },
  {
   "cell_type": "markdown",
   "id": "2fedeecd",
   "metadata": {},
   "source": [
    "Q3. Create a lambda function to check if a given string is a palindrome."
   ]
  },
  {
   "cell_type": "code",
   "execution_count": null,
   "id": "8ecfbcab",
   "metadata": {},
   "outputs": [],
   "source": []
  },
  {
   "cell_type": "markdown",
   "id": "99965eee",
   "metadata": {},
   "source": [
    "Q4. Implement a function to reverse a string."
   ]
  },
  {
   "cell_type": "code",
   "execution_count": null,
   "id": "e165697b",
   "metadata": {},
   "outputs": [],
   "source": []
  },
  {
   "cell_type": "markdown",
   "id": "a65b5dea",
   "metadata": {},
   "source": [
    "Q5. Write a Python program to find the largest element in a list."
   ]
  },
  {
   "cell_type": "code",
   "execution_count": null,
   "id": "a73d1bcd",
   "metadata": {},
   "outputs": [],
   "source": []
  },
  {
   "cell_type": "markdown",
   "id": "ee319b56",
   "metadata": {},
   "source": [
    "Q6. Create a function to convert Celsius to Fahrenheit."
   ]
  },
  {
   "cell_type": "code",
   "execution_count": null,
   "id": "6cc06708",
   "metadata": {},
   "outputs": [],
   "source": []
  },
  {
   "cell_type": "markdown",
   "id": "46361bcf",
   "metadata": {},
   "source": [
    "Q7. Write a program to find the second largest element in a list."
   ]
  },
  {
   "cell_type": "code",
   "execution_count": null,
   "id": "bbd2b790",
   "metadata": {},
   "outputs": [],
   "source": []
  },
  {
   "cell_type": "markdown",
   "id": "c9033a6d",
   "metadata": {},
   "source": [
    "Q8. Implement a function to count the number of vowels in a string.\n"
   ]
  },
  {
   "cell_type": "code",
   "execution_count": null,
   "id": "4211acd0",
   "metadata": {},
   "outputs": [],
   "source": []
  },
  {
   "cell_type": "markdown",
   "id": "522e0920",
   "metadata": {},
   "source": [
    "Q9. Write a Python program to find the product of all elements in a list."
   ]
  },
  {
   "cell_type": "code",
   "execution_count": null,
   "id": "e2e420e5",
   "metadata": {},
   "outputs": [],
   "source": []
  },
  {
   "cell_type": "markdown",
   "id": "aea632dc",
   "metadata": {},
   "source": [
    "Q10. Create a function to check if a number is a perfect square."
   ]
  },
  {
   "cell_type": "code",
   "execution_count": null,
   "id": "76647577",
   "metadata": {},
   "outputs": [],
   "source": []
  },
  {
   "cell_type": "markdown",
   "id": "b914fb94",
   "metadata": {},
   "source": [
    "Q11. Create a function to check if a string is a valid email address."
   ]
  },
  {
   "cell_type": "code",
   "execution_count": null,
   "id": "d2ca4d2a",
   "metadata": {},
   "outputs": [],
   "source": []
  },
  {
   "cell_type": "markdown",
   "id": "66f5e40d",
   "metadata": {},
   "source": [
    "Q12.  Implement a function to generate the first n Fibonacci numbers."
   ]
  },
  {
   "cell_type": "code",
   "execution_count": null,
   "id": "94ad3ad1",
   "metadata": {},
   "outputs": [],
   "source": []
  },
  {
   "cell_type": "markdown",
   "id": "1c84fb2d",
   "metadata": {},
   "source": [
    "Q13. Write a program to sort a list of elements using the bubble sort algorithm."
   ]
  },
  {
   "cell_type": "code",
   "execution_count": null,
   "id": "b4c431de",
   "metadata": {},
   "outputs": [],
   "source": []
  },
  {
   "cell_type": "markdown",
   "id": "c0d7db7f",
   "metadata": {},
   "source": [
    "Q14. Implement a function to find the intersection of two lists."
   ]
  },
  {
   "cell_type": "code",
   "execution_count": null,
   "id": "73ad862b",
   "metadata": {},
   "outputs": [],
   "source": []
  },
  {
   "cell_type": "markdown",
   "id": "5e551c7e",
   "metadata": {},
   "source": [
    "Q15. Write a Python program to find the maximum element in a list using recursion."
   ]
  },
  {
   "cell_type": "code",
   "execution_count": null,
   "id": "b3b04c7d",
   "metadata": {},
   "outputs": [],
   "source": []
  },
  {
   "cell_type": "markdown",
   "id": "dd443010",
   "metadata": {},
   "source": [
    "Q16. Write a Python program to find the sum of all even numbers in a list."
   ]
  },
  {
   "cell_type": "code",
   "execution_count": null,
   "id": "19ba96b6",
   "metadata": {},
   "outputs": [],
   "source": []
  },
  {
   "cell_type": "markdown",
   "id": "529fe053",
   "metadata": {},
   "source": [
    "Q17. Create a function to find the length of the longest word in a string.\n"
   ]
  },
  {
   "cell_type": "code",
   "execution_count": null,
   "id": "c4d33416",
   "metadata": {},
   "outputs": [],
   "source": []
  },
  {
   "cell_type": "markdown",
   "id": "932c3c16",
   "metadata": {},
   "source": [
    "Q18. Write a program to implement a binary search algorithm."
   ]
  },
  {
   "cell_type": "code",
   "execution_count": null,
   "id": "eae67698",
   "metadata": {},
   "outputs": [],
   "source": []
  },
  {
   "cell_type": "markdown",
   "id": "b2b68123",
   "metadata": {},
   "source": [
    "Q19. Implement a function to find the missing number in a list of consecutive numbers.\n"
   ]
  },
  {
   "cell_type": "code",
   "execution_count": null,
   "id": "6475a902",
   "metadata": {},
   "outputs": [],
   "source": []
  },
  {
   "cell_type": "markdown",
   "id": "bfe8e2ee",
   "metadata": {},
   "source": [
    "Q20.  Create a function to find the longest common prefix among a list of strings."
   ]
  },
  {
   "cell_type": "code",
   "execution_count": null,
   "id": "bc767964",
   "metadata": {},
   "outputs": [],
   "source": []
  },
  {
   "cell_type": "markdown",
   "id": "9491191f",
   "metadata": {},
   "source": [
    "Q21.\n",
    "\n",
    "Question:\n",
    "\n",
    "Given an array of integers `nums` and an integer `target`, return indices of the two\n",
    "numbers such that they add up to `target`.\n",
    "\n",
    "\n",
    "Test Case\n",
    "- Input: nums = [2,7,11,15], target = 9\n",
    "- Output: [0,1]\n",
    "\n",
    "\n",
    "Explanation\n",
    "In this example, `nums[0] + nums[1] = 2 + 7 = 9`, so the output is `[0,1]`.\n"
   ]
  },
  {
   "cell_type": "code",
   "execution_count": null,
   "id": "f4d8b597",
   "metadata": {},
   "outputs": [],
   "source": []
  },
  {
   "cell_type": "markdown",
   "id": "3f1644ea",
   "metadata": {},
   "source": [
    "Q22. \n",
    "\n",
    "Question\n",
    "Given a string `s`, find the length of the longest substring without repeating\n",
    "characters.\n",
    "\n",
    "Test Case:\n",
    "- Input: `s = \"abcabcbb\"`\n",
    "- Output: `3`\n",
    "\n",
    "Explanation:\n",
    "\n",
    "In this example, the longest substring without repeating characters is `\"abc\"`, which\n",
    "has a length of `3`"
   ]
  },
  {
   "cell_type": "markdown",
   "id": "6e28987b",
   "metadata": {},
   "source": [
    "We can use a sliding window approach to find the longest substring without\n",
    "repeating characters. We maintain a dictionary to store the index of the last\n",
    "occurrence of each character. We also maintain two pointers `start` and `end` to\n",
    "define the current substring. As we iterate through the string, if we encounter a\n",
    "character that is already in the dictionary, we update the `start` pointer to the next\n",
    "index after the last occurrence of that character. We update the dictionary with the\n",
    "current index of the character. At each step, we update the maximum length of the\n",
    "substring."
   ]
  },
  {
   "cell_type": "code",
   "execution_count": null,
   "id": "d8ebf9d0",
   "metadata": {},
   "outputs": [],
   "source": []
  },
  {
   "cell_type": "markdown",
   "id": "52e12e6b",
   "metadata": {},
   "source": [
    "Q23.\n",
    "\n",
    "Question\n",
    "\n",
    "Given a collection of intervals, merge all overlapping intervals.\n",
    "\n",
    "Test Case\n",
    "\n",
    "- Input: `intervals = [[1,3],[2,6],[8,10],[15,18]]`\n",
    "- Output: `[[1,6],[8,10],[15,18]]`\n",
    "    \n",
    "Explanation\n",
    "\n",
    "In this example, the intervals `[1,3]` and `[2,6]` overlap, so they should be merged\n",
    "into `[1,6]`."
   ]
  },
  {
   "cell_type": "markdown",
   "id": "2c0ea9e2",
   "metadata": {},
   "source": [
    "To merge overlapping intervals, we first sort the intervals based on their start times.\n",
    "Then, we iterate through the sorted intervals and merge overlapping intervals by\n",
    "comparing the end time of the current interval with the start time of the next interval.\n",
    "If there is an overlap, we merge the intervals by updating the end time of the current\n",
    "interval. If there is no overlap, we add the current interval to the result and update\n",
    "the current interval to the next interval.\n"
   ]
  },
  {
   "cell_type": "code",
   "execution_count": null,
   "id": "4f57056b",
   "metadata": {},
   "outputs": [],
   "source": []
  },
  {
   "cell_type": "markdown",
   "id": "d00b5a88",
   "metadata": {},
   "source": [
    "Q24.\n",
    "\n",
    "Question\n",
    "Given an integer array `nums` and an integer `k`, return the `k` most frequent\n",
    "elements. You may return the answer in any order.\n",
    "\n",
    "Test Case\n",
    "- Input: `nums = [1,1,1,2,2,3], k = 2`\n",
    "- Output: `[1,2]`\n",
    "    \n",
    "Explanation\n",
    "In this example, the two most frequent elements are `1` and `2`."
   ]
  },
  {
   "cell_type": "code",
   "execution_count": null,
   "id": "49e839b0",
   "metadata": {},
   "outputs": [],
   "source": []
  },
  {
   "cell_type": "markdown",
   "id": "1a1ba2ea",
   "metadata": {},
   "source": [
    "Q25.\n",
    "\n",
    "Question\n",
    "\n",
    "Given two strings `s` and `t`, return the minimum window in `s` which contains all the\n",
    "characters in `t`. If there is no such window in `s` that covers all characters in `t`,\n",
    "return an empty string `\"\"`.\n",
    "\n",
    "Test Case\n",
    "- Input: `s = \"ADOBECODEBANC\", t = \"ABC\"`\n",
    "- Output: `\"BANC\"`\n",
    "    \n",
    "Explanation\n",
    "\n",
    "In this example, the minimum window substring that contains all characters from\n",
    "string `t` is `\"BANC\"`. The substring starts at index 9 (character 'B') and ends at\n",
    "index 12 (character 'C') in the input string `s = \"ADOBECODEBANC\"`. This substring\n",
    "includes all characters 'A', 'B', and 'C' from string `t = \"ABC\"` in the correct order.\n",
    "\n",
    "Solution Explanation\n",
    "\n",
    "\n",
    "\\We can use a sliding window approach to find the minimum window substring. We\n",
    "maintain two pointers, `left` and `right`, to define the current window. We also\n",
    "maintain a dictionary `t_count` to store the count of characters in string `t`. As we\n",
    "expand the window by moving the `right` pointer, we decrease the count of the\n",
    "character in `t_count`. When all characters in `t` are found in the current window, we\n",
    "try to shrink the window from the left to minimize its size while still maintaining all\n",
    "characters from `t`. We update the minimum window size and indices as we shrink\n",
    "the window"
   ]
  },
  {
   "cell_type": "code",
   "execution_count": null,
   "id": "872140f4",
   "metadata": {},
   "outputs": [],
   "source": []
  }
 ],
 "metadata": {
  "kernelspec": {
   "display_name": "Python 3 (ipykernel)",
   "language": "python",
   "name": "python3"
  },
  "language_info": {
   "codemirror_mode": {
    "name": "ipython",
    "version": 3
   },
   "file_extension": ".py",
   "mimetype": "text/x-python",
   "name": "python",
   "nbconvert_exporter": "python",
   "pygments_lexer": "ipython3",
   "version": "3.9.12"
  }
 },
 "nbformat": 4,
 "nbformat_minor": 5
}
