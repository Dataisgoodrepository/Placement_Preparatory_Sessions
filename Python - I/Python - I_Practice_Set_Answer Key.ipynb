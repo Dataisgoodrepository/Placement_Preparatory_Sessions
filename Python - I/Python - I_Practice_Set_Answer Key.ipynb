{
 "cells": [
  {
   "cell_type": "markdown",
   "id": "1dc99082",
   "metadata": {},
   "source": [
    "# DataTypes in Python"
   ]
  },
  {
   "cell_type": "markdown",
   "id": "b33f63c7",
   "metadata": {},
   "source": [
    "Q1. Convert the value of 4.56 to integer."
   ]
  },
  {
   "cell_type": "code",
   "execution_count": 5,
   "id": "ce04cc6a",
   "metadata": {},
   "outputs": [
    {
     "name": "stdout",
     "output_type": "stream",
     "text": [
      "4\n"
     ]
    }
   ],
   "source": [
    "value = 4.56\n",
    "int_value = int(value)\n",
    "print(int_value)"
   ]
  },
  {
   "cell_type": "markdown",
   "id": "cd2af3d5",
   "metadata": {},
   "source": [
    "Q2. You have a list of integers [1, 2, 3, 4, 5]. Convert this list into a string where each integer is separated by a comma."
   ]
  },
  {
   "cell_type": "code",
   "execution_count": 6,
   "id": "6a815c8f",
   "metadata": {},
   "outputs": [
    {
     "name": "stdout",
     "output_type": "stream",
     "text": [
      "1,2,3,4,5\n"
     ]
    }
   ],
   "source": [
    "integers = [1, 2, 3, 4, 5]\n",
    "string1 = ','.join(str(i) for i in integers)\n",
    "print(string1)"
   ]
  },
  {
   "cell_type": "markdown",
   "id": "39da1aab",
   "metadata": {},
   "source": [
    "Q3. Given the string \"123.456\", convert it into a floating-point number and then into an integer."
   ]
  },
  {
   "cell_type": "code",
   "execution_count": 7,
   "id": "bf27d8fa",
   "metadata": {},
   "outputs": [
    {
     "name": "stdout",
     "output_type": "stream",
     "text": [
      "123.456\n",
      "123\n"
     ]
    }
   ],
   "source": [
    "s = \"123.456\"\n",
    "float_value = float(s)\n",
    "int_value = int(float_value)\n",
    "\n",
    "print(float_value)\n",
    "print(int_value) "
   ]
  },
  {
   "cell_type": "markdown",
   "id": "0534a5d2",
   "metadata": {},
   "source": [
    "Q4. You have a dictionary {'a': 1, 'b': 2, 'c': 3}. Convert it into a list of tuples."
   ]
  },
  {
   "cell_type": "code",
   "execution_count": 8,
   "id": "5da49a74",
   "metadata": {},
   "outputs": [
    {
     "name": "stdout",
     "output_type": "stream",
     "text": [
      "[('a', 1), ('b', 2), ('c', 3)]\n"
     ]
    }
   ],
   "source": [
    "dictionary = {'a': 1, 'b': 2, 'c': 3}\n",
    "\n",
    "list_of_tuples = list(dictionary.items())\n",
    "\n",
    "print(list_of_tuples)"
   ]
  },
  {
   "cell_type": "markdown",
   "id": "2dd21c74",
   "metadata": {},
   "source": [
    "Q5. Given a list of strings ['10', '20', '30']. Write a code to convert all elements to integers."
   ]
  },
  {
   "cell_type": "code",
   "execution_count": 10,
   "id": "468e738b",
   "metadata": {},
   "outputs": [
    {
     "name": "stdout",
     "output_type": "stream",
     "text": [
      "[10, 20, 30]\n"
     ]
    }
   ],
   "source": [
    "string_list = ['10', '20', '30']\n",
    "\n",
    "# Convert all elements to integers using map\n",
    "int_list = list(map(int, string_list))\n",
    "\n",
    "print(int_list)\n"
   ]
  },
  {
   "cell_type": "markdown",
   "id": "0549e45c",
   "metadata": {},
   "source": [
    "## Data Structures"
   ]
  },
  {
   "cell_type": "markdown",
   "id": "9f5d97ee",
   "metadata": {},
   "source": [
    "Q1. Given a list of numbers [1, 2, 3, 4, 5], create a new list using list comprehension where each element is squared."
   ]
  },
  {
   "cell_type": "code",
   "execution_count": 11,
   "id": "0d368baa",
   "metadata": {},
   "outputs": [
    {
     "name": "stdout",
     "output_type": "stream",
     "text": [
      "[1, 4, 9, 16, 25]\n"
     ]
    }
   ],
   "source": [
    "numbers = [1, 2, 3, 4, 5]\n",
    "\n",
    "# Create a new list with squared values using list comprehension\n",
    "squared_numbers = [x**2 for x in numbers]\n",
    "\n",
    "print(squared_numbers)\n"
   ]
  },
  {
   "cell_type": "markdown",
   "id": "864a87d8",
   "metadata": {},
   "source": [
    "Q2. Remove all duplicate elements from the list [1, 2, 2, 3, 4, 4, 5]."
   ]
  },
  {
   "cell_type": "code",
   "execution_count": 12,
   "id": "918ea8bb",
   "metadata": {},
   "outputs": [
    {
     "name": "stdout",
     "output_type": "stream",
     "text": [
      "[1, 2, 3, 4, 5]\n"
     ]
    }
   ],
   "source": [
    "numbers = [1, 2, 2, 3, 4, 4, 5]\n",
    "\n",
    "# Remove duplicates while preserving order\n",
    "seen = set()\n",
    "unique_numbers = []\n",
    "for num in numbers:\n",
    "    if num not in seen:\n",
    "        unique_numbers.append(num)\n",
    "        seen.add(num)\n",
    "\n",
    "print(unique_numbers) \n",
    "\n"
   ]
  },
  {
   "cell_type": "markdown",
   "id": "5fd82761",
   "metadata": {},
   "source": [
    "Q3. Given a tuple (1, 2, 3, 4, 5), create a new tuple with the elements reversed."
   ]
  },
  {
   "cell_type": "code",
   "execution_count": 13,
   "id": "82d02b85",
   "metadata": {},
   "outputs": [
    {
     "name": "stdout",
     "output_type": "stream",
     "text": [
      "(5, 4, 3, 2, 1)\n"
     ]
    }
   ],
   "source": [
    "original_tuple = (1, 2, 3, 4, 5)\n",
    "\n",
    "# Create a new tuple with elements reversed\n",
    "reversed_tuple = original_tuple[::-1]\n",
    "\n",
    "print(reversed_tuple)\n"
   ]
  },
  {
   "cell_type": "markdown",
   "id": "a22cef50",
   "metadata": {},
   "source": [
    "Q4. Given a dictionary {'a': 1, 'b': 2, 'c': 3}, add a new key-value pair 'd': 4."
   ]
  },
  {
   "cell_type": "code",
   "execution_count": 14,
   "id": "68892945",
   "metadata": {},
   "outputs": [
    {
     "name": "stdout",
     "output_type": "stream",
     "text": [
      "{'a': 1, 'b': 2, 'c': 3, 'd': 4}\n"
     ]
    }
   ],
   "source": [
    "# Original dictionary\n",
    "dictionary = {'a': 1, 'b': 2, 'c': 3}\n",
    "\n",
    "# Add new key-value pair 'd': 4\n",
    "dictionary['d'] = 4\n",
    "\n",
    "print(dictionary)"
   ]
  },
  {
   "cell_type": "markdown",
   "id": "7e9f4b79",
   "metadata": {},
   "source": [
    "Q5. Merge two dictionaries {'a': 1, 'b': 2} and {'c': 3, 'd': 4}."
   ]
  },
  {
   "cell_type": "code",
   "execution_count": 15,
   "id": "328e145e",
   "metadata": {},
   "outputs": [
    {
     "name": "stdout",
     "output_type": "stream",
     "text": [
      "{'a': 1, 'b': 2, 'c': 3, 'd': 4}\n"
     ]
    }
   ],
   "source": [
    "# Original dictionaries\n",
    "dict1 = {'a': 1, 'b': 2}\n",
    "dict2 = {'c': 3, 'd': 4}\n",
    "\n",
    "# Merge dict2 into dict1\n",
    "dict1.update(dict2)\n",
    "\n",
    "print(dict1)\n"
   ]
  },
  {
   "cell_type": "markdown",
   "id": "b512a4cc",
   "metadata": {},
   "source": [
    "Q6. Given two sets {1, 2, 3} and {3, 4, 5}, find their intersection."
   ]
  },
  {
   "cell_type": "code",
   "execution_count": 16,
   "id": "f0e8d582",
   "metadata": {},
   "outputs": [
    {
     "name": "stdout",
     "output_type": "stream",
     "text": [
      "{3}\n"
     ]
    }
   ],
   "source": [
    "# Original sets\n",
    "set1 = {1, 2, 3}\n",
    "set2 = {3, 4, 5}\n",
    "\n",
    "# Find the intersection\n",
    "intersection_set = set1.intersection(set2)\n",
    "\n",
    "print(intersection_set)\n"
   ]
  },
  {
   "cell_type": "markdown",
   "id": "a894698d",
   "metadata": {},
   "source": [
    "Q7. Write a function to rotate a list n positions to the right. For example, [1, 2, 3, 4, 5] rotated 2 positions to the right becomes [4, 5, 1, 2, 3]"
   ]
  },
  {
   "cell_type": "code",
   "execution_count": 22,
   "id": "b7d84e08",
   "metadata": {},
   "outputs": [
    {
     "name": "stdout",
     "output_type": "stream",
     "text": [
      "[4, 5, 1, 2, 3]\n"
     ]
    }
   ],
   "source": [
    "def rotate_right(lst, n):\n",
    "    # Calculate the effective rotations needed\n",
    "    n = n % len(lst)  # In case n is greater than the length of the list\n",
    "    \n",
    "    # Rotate the list\n",
    "    rotated_list = lst[-n:] + lst[:-n]\n",
    "    return rotated_list\n",
    "\n",
    "# Example usage\n",
    "lst = [1, 2, 3, 4, 5]\n",
    "n = 2\n",
    "rotated_list = rotate_right(lst, n)\n",
    "print(rotated_list)  "
   ]
  },
  {
   "cell_type": "markdown",
   "id": "18ddf56b",
   "metadata": {},
   "source": [
    "Q8. Write a function to flatten a nested list. For example, [[1, 2, [3, 4]], [5, 6]] should become [1, 2, 3, 4, 5, 6]."
   ]
  },
  {
   "cell_type": "code",
   "execution_count": 24,
   "id": "b5a70254",
   "metadata": {},
   "outputs": [
    {
     "name": "stdout",
     "output_type": "stream",
     "text": [
      "[1, 2, 3, 4, 5, 6]\n"
     ]
    }
   ],
   "source": [
    "def flatten_list(nested_list):\n",
    "    flattened = []\n",
    "    for item in nested_list:\n",
    "        if isinstance(item, list):\n",
    "            flattened.extend(flatten_list(item))\n",
    "        else:\n",
    "            flattened.append(item)\n",
    "    return flattened\n",
    "\n",
    "# Example usage\n",
    "nested_list = [[1, 2, [3, 4]], [5, 6]]\n",
    "flattened_list = flatten_list(nested_list)\n",
    "print(flattened_list)\n"
   ]
  },
  {
   "cell_type": "markdown",
   "id": "821d5fd3",
   "metadata": {},
   "source": [
    "Q9. Write a function to invert a dictionary, i.e., swap keys and values. For example, {'a': 1, 'b': 2, 'c': 3} should become {1: 'a', 2: 'b', 3: 'c'}."
   ]
  },
  {
   "cell_type": "code",
   "execution_count": 25,
   "id": "befada4b",
   "metadata": {},
   "outputs": [
    {
     "name": "stdout",
     "output_type": "stream",
     "text": [
      "{1: 'a', 2: 'b', 3: 'c'}\n"
     ]
    }
   ],
   "source": [
    "def invert_dictionary(d):\n",
    "    return {v: k for k, v in d.items()}\n",
    "\n",
    "# Example usage\n",
    "original_dict = {'a': 1, 'b': 2, 'c': 3}\n",
    "inverted_dict = invert_dictionary(original_dict)\n",
    "print(inverted_dict) \n"
   ]
  },
  {
   "cell_type": "markdown",
   "id": "bd7cbe68",
   "metadata": {},
   "source": [
    "Q10. Write a Python program to swap two variables."
   ]
  },
  {
   "cell_type": "code",
   "execution_count": 26,
   "id": "15ee0187",
   "metadata": {},
   "outputs": [
    {
     "name": "stdout",
     "output_type": "stream",
     "text": [
      "Swapped values: a = 20 b = 10\n"
     ]
    }
   ],
   "source": [
    "a = 10\n",
    "b = 20\n",
    "a, b = b, a\n",
    "print(\"Swapped values: a =\", a, \"b =\", b)\n"
   ]
  },
  {
   "cell_type": "code",
   "execution_count": null,
   "id": "0bbd9069",
   "metadata": {},
   "outputs": [],
   "source": []
  },
  {
   "cell_type": "markdown",
   "id": "c5a94070",
   "metadata": {},
   "source": [
    "## Control Flow Statements and Functions"
   ]
  },
  {
   "cell_type": "markdown",
   "id": "6ede171b",
   "metadata": {},
   "source": [
    "Q1. Create a function that returns the factorial of a number."
   ]
  },
  {
   "cell_type": "code",
   "execution_count": 27,
   "id": "2e21f749",
   "metadata": {},
   "outputs": [
    {
     "name": "stdout",
     "output_type": "stream",
     "text": [
      "Factorial of 5 is 120\n"
     ]
    }
   ],
   "source": [
    "def factorial(n):\n",
    "    if n == 0:\n",
    "        return 1\n",
    "    else:\n",
    "        return n * factorial(n-1)\n",
    "num = 5\n",
    "print(\"Factorial of\", num, \"is\", factorial(num))\n"
   ]
  },
  {
   "cell_type": "markdown",
   "id": "43d20981",
   "metadata": {},
   "source": [
    "Q2. Write a program to check if a number is prime."
   ]
  },
  {
   "cell_type": "code",
   "execution_count": 3,
   "id": "03b8eeed",
   "metadata": {},
   "outputs": [
    {
     "name": "stdout",
     "output_type": "stream",
     "text": [
      "29 is a prime number.\n"
     ]
    }
   ],
   "source": [
    "def is_prime(n):\n",
    "    \"\"\"Return True if the number is prime, otherwise False.\"\"\"\n",
    "    if n <= 1:\n",
    "        return False\n",
    "    if n == 2:\n",
    "        return True\n",
    "    if n % 2 == 0:\n",
    "        return False\n",
    "    \n",
    "    # Check for factors from 3 to sqrt(n)\n",
    "    i = 3\n",
    "    while i * i <= n:\n",
    "        if n % i == 0:\n",
    "            return False\n",
    "        i += 2\n",
    "    \n",
    "    return True\n",
    "\n",
    "# Example usage\n",
    "num = 29\n",
    "if is_prime(num):\n",
    "    print(f\"{num} is a prime number.\")\n",
    "else:\n",
    "    print(f\"{num} is not a prime number.\")\n"
   ]
  },
  {
   "cell_type": "markdown",
   "id": "31733d08",
   "metadata": {},
   "source": [
    "Q3. Create a lambda function to check if a given string is a palindrome."
   ]
  },
  {
   "cell_type": "code",
   "execution_count": 4,
   "id": "bbc37f78",
   "metadata": {},
   "outputs": [
    {
     "name": "stdout",
     "output_type": "stream",
     "text": [
      "True\n",
      "False\n"
     ]
    }
   ],
   "source": [
    "# Lambda function to check if a string is a palindrome\n",
    "is_palindrome = lambda s: s == s[::-1]\n",
    "\n",
    "# Example usage\n",
    "test_string = \"radar\"\n",
    "print(is_palindrome(test_string))  # Output: True\n",
    "\n",
    "test_string = \"hello\"\n",
    "print(is_palindrome(test_string))  # Output: False\n"
   ]
  },
  {
   "cell_type": "markdown",
   "id": "e7c859f2",
   "metadata": {},
   "source": [
    "Q4. Implement a function to reverse a string."
   ]
  },
  {
   "cell_type": "code",
   "execution_count": 5,
   "id": "f15fa6f6",
   "metadata": {},
   "outputs": [
    {
     "name": "stdout",
     "output_type": "stream",
     "text": [
      "olleh\n"
     ]
    }
   ],
   "source": [
    "def reverse_string(s):\n",
    "    return s[::-1]\n",
    "\n",
    "# Example usage\n",
    "original_string = \"hello\"\n",
    "reversed_string = reverse_string(original_string)\n",
    "print(reversed_string)  # Output: \"olleh\"\n"
   ]
  },
  {
   "cell_type": "markdown",
   "id": "3876be6e",
   "metadata": {},
   "source": [
    "Q5. Write a Python program to find the largest element in a list."
   ]
  },
  {
   "cell_type": "code",
   "execution_count": 6,
   "id": "7c1aa9cd",
   "metadata": {},
   "outputs": [
    {
     "name": "stdout",
     "output_type": "stream",
     "text": [
      "The largest element is: 9\n"
     ]
    }
   ],
   "source": [
    "def find_largest_element(lst):\n",
    "    return max(lst)\n",
    "\n",
    "# Example usage\n",
    "numbers = [3, 1, 4, 1, 5, 9, 2, 6, 5, 3, 5]\n",
    "largest_element = find_largest_element(numbers)\n",
    "print(f\"The largest element is: {largest_element}\") \n"
   ]
  },
  {
   "cell_type": "markdown",
   "id": "57a60601",
   "metadata": {},
   "source": [
    "Q6. Create a function to convert Celsius to Fahrenheit."
   ]
  },
  {
   "cell_type": "code",
   "execution_count": 7,
   "id": "decc152c",
   "metadata": {},
   "outputs": [
    {
     "name": "stdout",
     "output_type": "stream",
     "text": [
      "25°C is equal to 77.0°F\n"
     ]
    }
   ],
   "source": [
    "def celsius_to_fahrenheit(celsius):\n",
    "\n",
    "    return celsius * 9/5 + 32\n",
    "\n",
    "# Example usage\n",
    "celsius_temp = 25\n",
    "fahrenheit_temp = celsius_to_fahrenheit(celsius_temp)\n",
    "print(f\"{celsius_temp}°C is equal to {fahrenheit_temp}°F\") \n"
   ]
  },
  {
   "cell_type": "markdown",
   "id": "b574d11f",
   "metadata": {},
   "source": [
    "Q7. Write a program to find the second largest element in a list."
   ]
  },
  {
   "cell_type": "code",
   "execution_count": 8,
   "id": "dcd24ba4",
   "metadata": {},
   "outputs": [
    {
     "name": "stdout",
     "output_type": "stream",
     "text": [
      "The second largest element is: 6\n"
     ]
    }
   ],
   "source": [
    "def find_second_largest(lst):\n",
    "    if len(lst) < 2:\n",
    "        return None  # Not enough elements for a second largest\n",
    "\n",
    "    largest = second_largest = float('-inf')\n",
    "    \n",
    "    for number in lst:\n",
    "        if number > largest:\n",
    "            second_largest = largest\n",
    "            largest = number\n",
    "        elif number > second_largest and number != largest:\n",
    "            second_largest = number\n",
    "\n",
    "    return second_largest if second_largest != float('-inf') else None\n",
    "\n",
    "# Example usage\n",
    "numbers = [3, 1, 4, 1, 5, 9, 2, 6, 5, 3, 5]\n",
    "second_largest_element = find_second_largest(numbers)\n",
    "print(f\"The second largest element is: {second_largest_element}\")  \n"
   ]
  },
  {
   "cell_type": "markdown",
   "id": "f98ba72f",
   "metadata": {},
   "source": [
    "Q8. Implement a function to count the number of vowels in a string.\n"
   ]
  },
  {
   "cell_type": "code",
   "execution_count": 9,
   "id": "66205346",
   "metadata": {},
   "outputs": [
    {
     "name": "stdout",
     "output_type": "stream",
     "text": [
      "The number of vowels in 'Hello, World!' is: 3\n"
     ]
    }
   ],
   "source": [
    "def count_vowels(s):\n",
    "\n",
    "    vowels = \"aeiouAEIOU\"\n",
    "    count = 0\n",
    "    for char in s:\n",
    "        if char in vowels:\n",
    "            count += 1\n",
    "    return count\n",
    "\n",
    "# Example usage\n",
    "input_string = \"Hello, World!\"\n",
    "vowel_count = count_vowels(input_string)\n",
    "print(f\"The number of vowels in '{input_string}' is: {vowel_count}\") \n"
   ]
  },
  {
   "cell_type": "markdown",
   "id": "7b2def9c",
   "metadata": {},
   "source": [
    "Q9. Write a Python program to find the product of all elements in a list."
   ]
  },
  {
   "cell_type": "code",
   "execution_count": 10,
   "id": "eacefe39",
   "metadata": {},
   "outputs": [
    {
     "name": "stdout",
     "output_type": "stream",
     "text": [
      "The product of all elements is: 120\n"
     ]
    }
   ],
   "source": [
    "def product_of_list(lst):\n",
    "    product = 1\n",
    "    for num in lst:\n",
    "        product *= num\n",
    "    return product\n",
    "\n",
    "# Example usage\n",
    "numbers = [1, 2, 3, 4, 5]\n",
    "result = product_of_list(numbers)\n",
    "print(f\"The product of all elements is: {result}\") \n"
   ]
  },
  {
   "cell_type": "markdown",
   "id": "af25d17c",
   "metadata": {},
   "source": [
    "Q10. Create a function to check if a number is a perfect square."
   ]
  },
  {
   "cell_type": "code",
   "execution_count": 11,
   "id": "65d9ca4c",
   "metadata": {},
   "outputs": [
    {
     "name": "stdout",
     "output_type": "stream",
     "text": [
      "25 is a perfect square: True\n",
      "26 is a perfect square: False\n"
     ]
    }
   ],
   "source": [
    "def is_perfect_square(n):\n",
    "    if n < 0:\n",
    "        return False\n",
    "    sqrt_n = int(n ** 0.5)\n",
    "    return sqrt_n * sqrt_n == n\n",
    "\n",
    "# Example usage\n",
    "number = 25\n",
    "print(f\"{number} is a perfect square: {is_perfect_square(number)}\")  \n",
    "\n",
    "number = 26\n",
    "print(f\"{number} is a perfect square: {is_perfect_square(number)}\") \n"
   ]
  },
  {
   "cell_type": "markdown",
   "id": "6bbad867",
   "metadata": {},
   "source": [
    "Q11. Create a function to check if a string is a valid email address."
   ]
  },
  {
   "cell_type": "code",
   "execution_count": 12,
   "id": "78cec97a",
   "metadata": {},
   "outputs": [
    {
     "name": "stdout",
     "output_type": "stream",
     "text": [
      "example@example.com is a valid email address: True\n",
      "example@domain is a valid email address: False\n"
     ]
    }
   ],
   "source": [
    "import re\n",
    "\n",
    "def is_valid_email(email):\n",
    "\n",
    "    pattern = r'^[\\w\\.-]+@[a-zA-Z0-9-]+\\.[a-zA-Z]{2,}$'\n",
    "    return re.match(pattern, email) is not None\n",
    "\n",
    "# Example usage\n",
    "email = \"example@example.com\"\n",
    "print(f\"{email} is a valid email address: {is_valid_email(email)}\") \n",
    "\n",
    "email = \"example@domain\"\n",
    "print(f\"{email} is a valid email address: {is_valid_email(email)}\")  \n"
   ]
  },
  {
   "cell_type": "markdown",
   "id": "f568cbe9",
   "metadata": {},
   "source": [
    "Q12.  Implement a function to generate the first n Fibonacci numbers."
   ]
  },
  {
   "cell_type": "code",
   "execution_count": 13,
   "id": "95f8aa9f",
   "metadata": {},
   "outputs": [
    {
     "name": "stdout",
     "output_type": "stream",
     "text": [
      "The first 10 Fibonacci numbers are: [0, 1, 1, 2, 3, 5, 8, 13, 21, 34]\n"
     ]
    }
   ],
   "source": [
    "def generate_fibonacci(n):\n",
    "\n",
    "    fibonacci_numbers = []\n",
    "    if n >= 1:\n",
    "        fibonacci_numbers.append(0)\n",
    "    if n >= 2:\n",
    "        fibonacci_numbers.append(1)\n",
    "    \n",
    "    for i in range(2, n):\n",
    "        fibonacci_numbers.append(fibonacci_numbers[-1] + fibonacci_numbers[-2])\n",
    "    \n",
    "    return fibonacci_numbers\n",
    "\n",
    "# Example usage\n",
    "n = 10\n",
    "fibonacci_sequence = generate_fibonacci(n)\n",
    "print(f\"The first {n} Fibonacci numbers are: {fibonacci_sequence}\")\n"
   ]
  },
  {
   "cell_type": "markdown",
   "id": "2e854586",
   "metadata": {},
   "source": [
    "Q13. Write a program to sort a list of elements using the bubble sort algorithm."
   ]
  },
  {
   "cell_type": "code",
   "execution_count": null,
   "id": "94649895",
   "metadata": {},
   "outputs": [],
   "source": [
    "def bubble_sort(arr):\n",
    "\n",
    "    n = len(arr)\n",
    "    for i in range(n):\n",
    "        # Flag to optimize the algorithm by stopping if no swaps are made in a pass\n",
    "        swapped = False\n",
    "        for j in range(0, n-i-1):\n",
    "            if arr[j] > arr[j+1]:\n",
    "                # Swap the elements if they are in the wrong order\n",
    "                arr[j], arr[j+1] = arr[j+1], arr[j]\n",
    "                swapped = True\n",
    "        # If no swaps are made in a pass, the list is already sorted\n",
    "        if not swapped:\n",
    "            break\n",
    "    return arr\n",
    "\n",
    "# Example usage\n",
    "elements = [64, 34, 25, 12, 22, 11, 90]\n",
    "sorted_elements = bubble_sort(elements)\n",
    "print(\"Sorted list:\", sorted_elements)\n"
   ]
  },
  {
   "cell_type": "markdown",
   "id": "c52466f3",
   "metadata": {},
   "source": [
    "Q14. Implement a function to find the intersection of two lists."
   ]
  },
  {
   "cell_type": "code",
   "execution_count": 14,
   "id": "5280b9de",
   "metadata": {},
   "outputs": [
    {
     "name": "stdout",
     "output_type": "stream",
     "text": [
      "Intersection: [4, 5]\n"
     ]
    }
   ],
   "source": [
    "def find_intersection(list1, list2):\n",
    "\n",
    "    set1 = set(list1)\n",
    "    set2 = set(list2)\n",
    "    intersection = set1.intersection(set2)\n",
    "    return list(intersection)\n",
    "\n",
    "# Example usage\n",
    "list1 = [1, 2, 3, 4, 5]\n",
    "list2 = [4, 5, 6, 7, 8]\n",
    "intersection = find_intersection(list1, list2)\n",
    "print(\"Intersection:\", intersection)  \n",
    "\n"
   ]
  },
  {
   "cell_type": "markdown",
   "id": "3c61747b",
   "metadata": {},
   "source": [
    "Q15. Write a Python program to find the maximum element in a list using recursion."
   ]
  },
  {
   "cell_type": "code",
   "execution_count": 15,
   "id": "c53fa550",
   "metadata": {},
   "outputs": [
    {
     "name": "stdout",
     "output_type": "stream",
     "text": [
      "Maximum element: 9\n"
     ]
    }
   ],
   "source": [
    "def max_element_recursive(arr):\n",
    "\n",
    "    if len(arr) == 1:\n",
    "        return arr[0]\n",
    "    else:\n",
    "        max_rest = max_element_recursive(arr[1:])\n",
    "        return arr[0] if arr[0] > max_rest else max_rest\n",
    "\n",
    "# Example usage\n",
    "numbers = [3, 1, 4, 1, 5, 9, 2, 6, 5, 3, 5]\n",
    "max_num = max_element_recursive(numbers)\n",
    "print(\"Maximum element:\", max_num) \n"
   ]
  },
  {
   "cell_type": "markdown",
   "id": "81ff53bb",
   "metadata": {},
   "source": [
    "Q16. Write a Python program to find the sum of all even numbers in a list."
   ]
  },
  {
   "cell_type": "code",
   "execution_count": 18,
   "id": "e12d1f82",
   "metadata": {},
   "outputs": [
    {
     "name": "stdout",
     "output_type": "stream",
     "text": [
      "Sum of even numbers: 30\n"
     ]
    }
   ],
   "source": [
    "def sum_of_even_numbers(lst):\n",
    "\n",
    "    return sum(num for num in lst if num % 2 == 0)\n",
    "\n",
    "# Example usage\n",
    "numbers = [1, 2, 3, 4, 5, 6, 7, 8, 9, 10]\n",
    "sum_of_even = sum_of_even_numbers(numbers)\n",
    "print(\"Sum of even numbers:\", sum_of_even)  "
   ]
  },
  {
   "cell_type": "markdown",
   "id": "1b0b036b",
   "metadata": {},
   "source": [
    "Q17. Create a function to find the length of the longest word in a string.\n"
   ]
  },
  {
   "cell_type": "code",
   "execution_count": 20,
   "id": "91fc95be",
   "metadata": {},
   "outputs": [
    {
     "name": "stdout",
     "output_type": "stream",
     "text": [
      "Length of the longest word: 6\n"
     ]
    }
   ],
   "source": [
    "def longest_word_length(string):\n",
    "\n",
    "    words = string.split()\n",
    "    max_length = 0\n",
    "    for word in words:\n",
    "        max_length = max(max_length, len(word))\n",
    "    return max_length\n",
    "\n",
    "# Example usage\n",
    "text = \"This is a sample string with some long words\"\n",
    "length_of_longest_word = longest_word_length(text)\n",
    "print(\"Length of the longest word:\", length_of_longest_word)  \n",
    "\n"
   ]
  },
  {
   "cell_type": "markdown",
   "id": "af9fa931",
   "metadata": {},
   "source": [
    "Q18. Write a program to implement a binary search algorithm."
   ]
  },
  {
   "cell_type": "code",
   "execution_count": 21,
   "id": "59f4f966",
   "metadata": {},
   "outputs": [
    {
     "name": "stdout",
     "output_type": "stream",
     "text": [
      "Element 11 found at index 5\n"
     ]
    }
   ],
   "source": [
    "def binary_search(arr, target):\n",
    "\n",
    "    left, right = 0, len(arr) - 1\n",
    "\n",
    "    while left <= right:\n",
    "        mid = (left + right) // 2\n",
    "        if arr[mid] == target:\n",
    "            return mid\n",
    "        elif arr[mid] < target:\n",
    "            left = mid + 1\n",
    "        else:\n",
    "            right = mid - 1\n",
    "\n",
    "    return -1\n",
    "\n",
    "# Example usage\n",
    "arr = [1, 3, 5, 7, 9, 11, 13, 15, 17]\n",
    "target = 11\n",
    "index = binary_search(arr, target)\n",
    "if index != -1:\n",
    "    print(f\"Element {target} found at index {index}\")\n",
    "else:\n",
    "    print(f\"Element {target} not found in the array\")\n"
   ]
  },
  {
   "cell_type": "markdown",
   "id": "37518671",
   "metadata": {},
   "source": [
    "Q19. Implement a function to find the missing number in a list of consecutive numbers.\n"
   ]
  },
  {
   "cell_type": "code",
   "execution_count": 24,
   "id": "f7ba1b09",
   "metadata": {},
   "outputs": [
    {
     "name": "stdout",
     "output_type": "stream",
     "text": [
      "Missing number: 4\n"
     ]
    }
   ],
   "source": [
    "def find_missing_number(nums):\n",
    "\n",
    "    n = len(nums) + 1  # Since one number is missing\n",
    "    expected_sum = n * (n + 1) // 2  # Sum of all numbers from 1 to n\n",
    "    actual_sum = sum(nums)  # Sum of numbers in the list\n",
    "    return expected_sum - actual_sum\n",
    "\n",
    "# Example usage\n",
    "numbers = [1, 2, 3, 5, 6, 7, 8]\n",
    "missing_number = find_missing_number(numbers)\n",
    "print(\"Missing number:\", missing_number)  \n"
   ]
  },
  {
   "cell_type": "markdown",
   "id": "1a1c796e",
   "metadata": {},
   "source": [
    "Q20.  Create a function to find the longest common prefix among a list of strings."
   ]
  },
  {
   "cell_type": "code",
   "execution_count": 25,
   "id": "125a9877",
   "metadata": {},
   "outputs": [
    {
     "name": "stdout",
     "output_type": "stream",
     "text": [
      "Longest common prefix: fl\n"
     ]
    }
   ],
   "source": [
    "def longest_common_prefix(strs):\n",
    "\n",
    "    if not strs:\n",
    "        return \"\"\n",
    "\n",
    "    min_length = min(len(s) for s in strs)\n",
    "    prefix = \"\"\n",
    "    for i in range(min_length):\n",
    "        char = strs[0][i]\n",
    "        if all(s[i] == char for s in strs):\n",
    "            prefix += char\n",
    "        else:\n",
    "            break\n",
    "\n",
    "    return prefix\n",
    "\n",
    "# Example usage\n",
    "strings = [\"flower\", \"flow\", \"flight\"]\n",
    "common_prefix = longest_common_prefix(strings)\n",
    "print(\"Longest common prefix:\", common_prefix) \n"
   ]
  },
  {
   "cell_type": "markdown",
   "id": "c13a389c",
   "metadata": {},
   "source": [
    "Q21.\n",
    "\n",
    "Question:\n",
    "\n",
    "Given an array of integers `nums` and an integer `target`, return indices of the two\n",
    "numbers such that they add up to `target`.\n",
    "\n",
    "\n",
    "Test Case\n",
    "- Input: nums = [2,7,11,15], target = 9\n",
    "- Output: [0,1]\n",
    "\n",
    "\n",
    "Explanation\n",
    "In this example, `nums[0] + nums[1] = 2 + 7 = 9`, so the output is `[0,1]`.\n"
   ]
  },
  {
   "cell_type": "code",
   "execution_count": 27,
   "id": "b0f25535",
   "metadata": {},
   "outputs": [
    {
     "name": "stdout",
     "output_type": "stream",
     "text": [
      "Output: [0, 1]\n"
     ]
    }
   ],
   "source": [
    "def two_sum(nums, target):\n",
    "\n",
    "    num_indices = {}\n",
    "    for i, num in enumerate(nums):\n",
    "        complement = target - num\n",
    "        if complement in num_indices:\n",
    "            return [num_indices[complement], i]\n",
    "        num_indices[num] = i\n",
    "\n",
    "# Test Case\n",
    "nums = [2, 7, 11, 15]\n",
    "target = 9\n",
    "indices = two_sum(nums, target)\n",
    "print(\"Output:\", indices)  \n",
    "\n"
   ]
  },
  {
   "cell_type": "markdown",
   "id": "432588f7",
   "metadata": {},
   "source": [
    "Q22. \n",
    "\n",
    "Question\n",
    "Given a string `s`, find the length of the longest substring without repeating\n",
    "characters.\n",
    "\n",
    "Test Case:\n",
    "- Input: `s = \"abcabcbb\"`\n",
    "- Output: `3`\n",
    "\n",
    "Explanation:\n",
    "\n",
    "In this example, the longest substring without repeating characters is `\"abc\"`, which\n",
    "has a length of `3`"
   ]
  },
  {
   "cell_type": "markdown",
   "id": "9b2a403c",
   "metadata": {},
   "source": [
    "We can use a sliding window approach to find the longest substring without\n",
    "repeating characters. We maintain a dictionary to store the index of the last\n",
    "occurrence of each character. We also maintain two pointers `start` and `end` to\n",
    "define the current substring. As we iterate through the string, if we encounter a\n",
    "character that is already in the dictionary, we update the `start` pointer to the next\n",
    "index after the last occurrence of that character. We update the dictionary with the\n",
    "current index of the character. At each step, we update the maximum length of the\n",
    "substring."
   ]
  },
  {
   "cell_type": "code",
   "execution_count": 33,
   "id": "646a22f5",
   "metadata": {},
   "outputs": [
    {
     "name": "stdout",
     "output_type": "stream",
     "text": [
      "Output: 3\n"
     ]
    }
   ],
   "source": [
    "def length_of_longest_substring(s):\n",
    "\n",
    "    last_occurrence = {}\n",
    "    max_length = 0\n",
    "    start = 0\n",
    "\n",
    "    for end, char in enumerate(s):\n",
    "        if char in last_occurrence and last_occurrence[char] >= start:\n",
    "            start = last_occurrence[char] + 1\n",
    "        last_occurrence[char] = end\n",
    "        max_length = max(max_length, end - start + 1)\n",
    "\n",
    "    return max_length\n",
    "\n",
    "# Test Case\n",
    "s = \"abcabcbb\"\n",
    "print(\"Output:\", length_of_longest_substring(s)) \n"
   ]
  },
  {
   "cell_type": "markdown",
   "id": "1e5fb8cf",
   "metadata": {},
   "source": [
    "Q23.\n",
    "\n",
    "Question\n",
    "\n",
    "Given a collection of intervals, merge all overlapping intervals.\n",
    "\n",
    "Test Case\n",
    "\n",
    "- Input: `intervals = [[1,3],[2,6],[8,10],[15,18]]`\n",
    "- Output: `[[1,6],[8,10],[15,18]]`\n",
    "    \n",
    "Explanation\n",
    "\n",
    "In this example, the intervals `[1,3]` and `[2,6]` overlap, so they should be merged\n",
    "into `[1,6]`."
   ]
  },
  {
   "cell_type": "markdown",
   "id": "714b8bac",
   "metadata": {},
   "source": [
    "To merge overlapping intervals, we first sort the intervals based on their start times.\n",
    "Then, we iterate through the sorted intervals and merge overlapping intervals by\n",
    "comparing the end time of the current interval with the start time of the next interval.\n",
    "If there is an overlap, we merge the intervals by updating the end time of the current\n",
    "interval. If there is no overlap, we add the current interval to the result and update\n",
    "the current interval to the next interval.\n"
   ]
  },
  {
   "cell_type": "code",
   "execution_count": 34,
   "id": "0a805140",
   "metadata": {},
   "outputs": [
    {
     "name": "stdout",
     "output_type": "stream",
     "text": [
      "Output: [[1, 6], [8, 10], [15, 18]]\n"
     ]
    }
   ],
   "source": [
    "def merge_intervals(intervals):\n",
    "\n",
    "    if not intervals:\n",
    "        return []\n",
    "\n",
    "    intervals.sort(key=lambda x: x[0])  # Sort intervals based on start times\n",
    "    merged_intervals = [intervals[0]]\n",
    "\n",
    "    for interval in intervals[1:]:\n",
    "        if interval[0] <= merged_intervals[-1][1]:  # Overlapping intervals\n",
    "            merged_intervals[-1][1] = max(merged_intervals[-1][1], interval[1])\n",
    "        else:\n",
    "            merged_intervals.append(interval)\n",
    "\n",
    "    return merged_intervals\n",
    "\n",
    "# Test Case\n",
    "intervals = [[1, 3], [2, 6], [8, 10], [15, 18]]\n",
    "print(\"Output:\", merge_intervals(intervals))  \n",
    " \n"
   ]
  },
  {
   "cell_type": "markdown",
   "id": "d86184d1",
   "metadata": {},
   "source": [
    "Q24.\n",
    "\n",
    "Question\n",
    "Given an integer array `nums` and an integer `k`, return the `k` most frequent\n",
    "elements. You may return the answer in any order.\n",
    "\n",
    "Test Case\n",
    "- Input: `nums = [1,1,1,2,2,3], k = 2`\n",
    "- Output: `[1,2]`\n",
    "    \n",
    "Explanation\n",
    "In this example, the two most frequent elements are `1` and `2`."
   ]
  },
  {
   "cell_type": "code",
   "execution_count": 37,
   "id": "48786da9",
   "metadata": {},
   "outputs": [
    {
     "name": "stdout",
     "output_type": "stream",
     "text": [
      "Output: [1, 2]\n"
     ]
    }
   ],
   "source": [
    "from collections import Counter\n",
    "import heapq\n",
    "\n",
    "def top_k_frequent(nums, k):\n",
    "\n",
    "    count = Counter(nums)\n",
    "    heap = [(-freq, num) for num, freq in count.items()]\n",
    "    heapq.heapify(heap)\n",
    "    return [heapq.heappop(heap)[1] for _ in range(k)]\n",
    "\n",
    "# Test Case\n",
    "nums = [1, 1, 1, 2, 2, 3]\n",
    "k = 2\n",
    "print(\"Output:\", top_k_frequent(nums, k)) \n",
    "\n"
   ]
  },
  {
   "cell_type": "markdown",
   "id": "0f1a2dd7",
   "metadata": {},
   "source": [
    "Q25.\n",
    "\n",
    "Question\n",
    "\n",
    "Given two strings `s` and `t`, return the minimum window in `s` which contains all the\n",
    "characters in `t`. If there is no such window in `s` that covers all characters in `t`,\n",
    "return an empty string `\"\"`.\n",
    "\n",
    "Test Case\n",
    "- Input: `s = \"ADOBECODEBANC\", t = \"ABC\"`\n",
    "- Output: `\"BANC\"`\n",
    "    \n",
    "Explanation\n",
    "\n",
    "In this example, the minimum window substring that contains all characters from\n",
    "string `t` is `\"BANC\"`. The substring starts at index 9 (character 'B') and ends at\n",
    "index 12 (character 'C') in the input string `s = \"ADOBECODEBANC\"`. This substring\n",
    "includes all characters 'A', 'B', and 'C' from string `t = \"ABC\"` in the correct order.\n",
    "\n",
    "Solution Explanation\n",
    "\n",
    "\n",
    "\\We can use a sliding window approach to find the minimum window substring. We\n",
    "maintain two pointers, `left` and `right`, to define the current window. We also\n",
    "maintain a dictionary `t_count` to store the count of characters in string `t`. As we\n",
    "expand the window by moving the `right` pointer, we decrease the count of the\n",
    "character in `t_count`. When all characters in `t` are found in the current window, we\n",
    "try to shrink the window from the left to minimize its size while still maintaining all\n",
    "characters from `t`. We update the minimum window size and indices as we shrink\n",
    "the window"
   ]
  },
  {
   "cell_type": "code",
   "execution_count": 35,
   "id": "c44d1211",
   "metadata": {},
   "outputs": [
    {
     "name": "stdout",
     "output_type": "stream",
     "text": [
      "Output: BANC\n"
     ]
    }
   ],
   "source": [
    "def min_window(s, t):\n",
    "\n",
    "    from collections import Counter\n",
    "\n",
    "    if not s or not t:\n",
    "        return \"\"\n",
    "\n",
    "    t_count = Counter(t)\n",
    "    required = len(t_count)\n",
    "    left = right = 0\n",
    "    formed = 0\n",
    "    window_counts = {}\n",
    "    ans = float('inf'), None, None\n",
    "\n",
    "    while right < len(s):\n",
    "        char = s[right]\n",
    "        window_counts[char] = window_counts.get(char, 0) + 1\n",
    "        if char in t_count and window_counts[char] == t_count[char]:\n",
    "            formed += 1\n",
    "        while left <= right and formed == required:\n",
    "            char = s[left]\n",
    "            if right - left + 1 < ans[0]:\n",
    "                ans = (right - left + 1, left, right)\n",
    "            window_counts[char] -= 1\n",
    "            if char in t_count and window_counts[char] < t_count[char]:\n",
    "                formed -= 1\n",
    "            left += 1\n",
    "        right += 1\n",
    "\n",
    "    return \"\" if ans[0] == float('inf') else s[ans[1]: ans[2] + 1]\n",
    "\n",
    "# Test Case\n",
    "s = \"ADOBECODEBANC\"\n",
    "t = \"ABC\"\n",
    "print(\"Output:\", min_window(s, t))  \n"
   ]
  },
  {
   "cell_type": "code",
   "execution_count": null,
   "id": "9487e6d0",
   "metadata": {},
   "outputs": [],
   "source": []
  }
 ],
 "metadata": {
  "kernelspec": {
   "display_name": "Python 3 (ipykernel)",
   "language": "python",
   "name": "python3"
  },
  "language_info": {
   "codemirror_mode": {
    "name": "ipython",
    "version": 3
   },
   "file_extension": ".py",
   "mimetype": "text/x-python",
   "name": "python",
   "nbconvert_exporter": "python",
   "pygments_lexer": "ipython3",
   "version": "3.9.12"
  }
 },
 "nbformat": 4,
 "nbformat_minor": 5
}
