{
 "cells": [
  {
   "cell_type": "markdown",
   "id": "e7f6f2d8",
   "metadata": {},
   "source": [
    "## Section A (15 marks)"
   ]
  },
  {
   "cell_type": "markdown",
   "id": "5db453c5",
   "metadata": {},
   "source": [
    "#### Q1. Write a Python program that takes an integer as input and prints whether it is even or odd. (3 marks)"
   ]
  },
  {
   "cell_type": "code",
   "execution_count": null,
   "id": "3575c4bd",
   "metadata": {},
   "outputs": [],
   "source": []
  },
  {
   "cell_type": "markdown",
   "id": "62d7dc78",
   "metadata": {},
   "source": [
    "#### Q2. Write a Python program that takes three integers as input and prints the largest among them. (3 marks)"
   ]
  },
  {
   "cell_type": "code",
   "execution_count": null,
   "id": "af9a7a7f",
   "metadata": {},
   "outputs": [],
   "source": []
  },
  {
   "cell_type": "markdown",
   "id": "d12d8694",
   "metadata": {},
   "source": [
    "#### Q3. Write a Python function that takes a list of numbers as input and returns a new list containing only the unique elements (no duplicates). (3 marks)"
   ]
  },
  {
   "cell_type": "code",
   "execution_count": null,
   "id": "8a993c6f",
   "metadata": {},
   "outputs": [],
   "source": []
  },
  {
   "cell_type": "markdown",
   "id": "7c50cf65",
   "metadata": {},
   "source": [
    "#### Q4. Write a Python program that uses a lambda function to find the square root of each element in a list of numbers below. (3 marks)\n",
    "\n",
    "list1 = [25, 36, 49, 64, 121]"
   ]
  },
  {
   "cell_type": "code",
   "execution_count": null,
   "id": "e5890aec",
   "metadata": {},
   "outputs": [],
   "source": []
  },
  {
   "cell_type": "markdown",
   "id": "a09e2d92",
   "metadata": {},
   "source": [
    "#### Q5. Write a Python program that takes a list of strings as input and capitalizes each string using the map() function. (3 marks)"
   ]
  },
  {
   "cell_type": "code",
   "execution_count": null,
   "id": "899d265a",
   "metadata": {},
   "outputs": [],
   "source": []
  },
  {
   "cell_type": "markdown",
   "id": "b3bf51ac",
   "metadata": {},
   "source": [
    "## Section B (15 marks)"
   ]
  },
  {
   "cell_type": "markdown",
   "id": "ece14aae",
   "metadata": {},
   "source": [
    "#### Q6. Write a function check_password_strength(password) that takes a string password as input and checks the strength of the password based on the following criteria:\n",
    "\n",
    "#### At least 8 characters long.\n",
    "\n",
    "#### Contains both uppercase and lowercase characters.\n",
    "\n",
    "#### Contains at least one digit.\n",
    "\n",
    "#### Contains at least one special character (e.g., !@#$%^&*()).\n",
    "\n",
    "#### Return \"Strong\" if all criteria are met, \"Medium\" if only two or three criteria are met, and \"Weak\" if less than two criteria are met.  (5 marks)"
   ]
  },
  {
   "cell_type": "code",
   "execution_count": null,
   "id": "cca6eed1",
   "metadata": {},
   "outputs": [],
   "source": []
  },
  {
   "cell_type": "markdown",
   "id": "a13ef5da",
   "metadata": {},
   "source": [
    "#### Q7. Write a function fizz_buzz(n) that takes an integer n and returns a list of strings with numbers from 1 to n. For multiples of three, append \"Fizz\" instead of the number, and for multiples of five, append \"Buzz\". For numbers that are multiples of both three and five, append \"FizzBuzz\".  (5 marks)"
   ]
  },
  {
   "cell_type": "code",
   "execution_count": null,
   "id": "088ddfa2",
   "metadata": {},
   "outputs": [],
   "source": []
  },
  {
   "cell_type": "markdown",
   "id": "b82d1029",
   "metadata": {},
   "source": [
    "#### Q8. Write a function count_vowels_consonants(s) that takes a string s and returns a dictionary with the count of vowels and consonants in the string. Ignore case and non-alphabetic characters.    (5 marks)"
   ]
  },
  {
   "cell_type": "code",
   "execution_count": null,
   "id": "0a98e428",
   "metadata": {},
   "outputs": [],
   "source": []
  },
  {
   "cell_type": "markdown",
   "id": "f56664a6",
   "metadata": {},
   "source": [
    "## Section C (20 marks)"
   ]
  },
  {
   "cell_type": "markdown",
   "id": "2738c0fc",
   "metadata": {},
   "source": [
    "#### Q9. \n",
    "\n",
    "#### Paragraph:\n",
    "\n",
    "#### \"Artificial Intelligence (AI) is a branch of computer science that aims to create intelligent machines. It has become an essential part of the technology industry. AI research is highly technical and specialized. The core problems of AI include programming computers for certain traits such as knowledge, reasoning, problem-solving, perception, learning, planning, and the ability to manipulate and move objects. The long-term goal of AI research is general AI, which seeks to create machines capable of intelligent behavior.\"\n",
    "\n",
    "#### Given a long paragraph of text, write functions that performs the following tasks:\n",
    "\n",
    "#### a) Clean the text by removing all punctuation and converting it to lowercase. (2 marks)\n",
    "\n"
   ]
  },
  {
   "cell_type": "code",
   "execution_count": null,
   "id": "0d4f0d55",
   "metadata": {},
   "outputs": [],
   "source": []
  },
  {
   "cell_type": "markdown",
   "id": "de39c11a",
   "metadata": {},
   "source": [
    "#### b) Split the text into sentences and summarize the text by returning the first and last sentence. (3 marks)"
   ]
  },
  {
   "cell_type": "code",
   "execution_count": null,
   "id": "57cc3cf1",
   "metadata": {},
   "outputs": [],
   "source": []
  },
  {
   "cell_type": "markdown",
   "id": "028d94dc",
   "metadata": {},
   "source": [
    "#### c) Split the text into words and return the frequency of each word in the text. (3 marks)"
   ]
  },
  {
   "cell_type": "code",
   "execution_count": null,
   "id": "06aabb45",
   "metadata": {},
   "outputs": [],
   "source": []
  },
  {
   "cell_type": "markdown",
   "id": "610dd0b3",
   "metadata": {},
   "source": [
    "#### d) Identify and return the longest word in the text. (2 marks)"
   ]
  },
  {
   "cell_type": "code",
   "execution_count": null,
   "id": "ef53d14f",
   "metadata": {},
   "outputs": [],
   "source": []
  },
  {
   "cell_type": "markdown",
   "id": "40f2e6d3",
   "metadata": {},
   "source": [
    "#### Q10. \n",
    "\n",
    "#### a) Given an array `nums` and an integer `k`, rotate the array to the right by `k` steps. Take input from users.  (5 marks)\n",
    "\n",
    "#### For example,\n",
    "\n",
    "#### nums = [1,2,3,4,5,6,7,8,9,10]\n",
    "\n",
    "#### k = 3 \n",
    "\n",
    "#### output: [8,9,10,1,2,3,4,5,6,7]\n"
   ]
  },
  {
   "cell_type": "code",
   "execution_count": null,
   "id": "c962e3af",
   "metadata": {},
   "outputs": [],
   "source": []
  },
  {
   "cell_type": "markdown",
   "id": "d809b745",
   "metadata": {},
   "source": [
    "#### b)\n",
    "\n",
    "#### Given two strings `s` and `t`, return the minimum window in `s` which contains all the characters in `t`. If there is no such window in `s` that covers all characters in `t`, return an empty string `\"\"`.\n",
    "\n",
    "\n",
    "#### Test Case\n",
    "#### - Input: `s = \"ADOBECODEBANC\", t = \"ABC\"`\n",
    "#### - Output: `\"BANC\"`\n",
    "    \n",
    "    \n",
    "#### In this example, the minimum window substring that contains all characters from string `t` is `\"BANC\"`. The substring starts at index 9 (character 'B') and ends at index 12 (character 'C') in the input string `s = \"ADOBECODEBANC\"`. This substring includes all characters 'A', 'B', and 'C' from string `t = \"ABC\"` in the correct order.\n",
    "\n",
    "#### (5 marks)"
   ]
  },
  {
   "cell_type": "code",
   "execution_count": null,
   "id": "c0e4f9cb",
   "metadata": {},
   "outputs": [],
   "source": []
  }
 ],
 "metadata": {
  "kernelspec": {
   "display_name": "Python 3 (ipykernel)",
   "language": "python",
   "name": "python3"
  },
  "language_info": {
   "codemirror_mode": {
    "name": "ipython",
    "version": 3
   },
   "file_extension": ".py",
   "mimetype": "text/x-python",
   "name": "python",
   "nbconvert_exporter": "python",
   "pygments_lexer": "ipython3",
   "version": "3.9.12"
  }
 },
 "nbformat": 4,
 "nbformat_minor": 5
}
