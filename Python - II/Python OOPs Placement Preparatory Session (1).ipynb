{
 "cells": [
  {
   "cell_type": "markdown",
   "id": "8b57411d-d29e-4882-a590-5e758aee5fa0",
   "metadata": {},
   "source": [
    "## Introduction to OOPs"
   ]
  },
  {
   "cell_type": "markdown",
   "id": "00cbb3d0-62d1-4e1c-ae1a-da7828f08549",
   "metadata": {},
   "source": [
    "#### What is OOPs"
   ]
  },
  {
   "cell_type": "markdown",
   "id": "d770b0bb-7631-45ca-b606-42aa9622f571",
   "metadata": {},
   "source": [
    "**Object-Oriented Programming (OOP)** is a programming paradigm that uses \"objects\" to design applications and computer programs. It leverages several key concepts to structure and manage code more efficiently and intuitively. The primary concepts of OOP are encapsulation, inheritance, polymorphism, and abstraction."
   ]
  },
  {
   "cell_type": "markdown",
   "id": "f8fa0f50-9f10-44c0-8ae5-f0faee7605fa",
   "metadata": {},
   "source": [
    "#### Classes and Objects"
   ]
  },
  {
   "cell_type": "markdown",
   "id": "7269fd65-37a1-42e7-a0cf-bf920a9679df",
   "metadata": {},
   "source": [
    "- **Class:** A blueprint for creating objects. A class defines a set of attributes and methods that the created objects will have.\n",
    "- **Object:** An instance of a class. When a class is defined, no memory is allocated until an object of that class is created."
   ]
  },
  {
   "cell_type": "code",
   "execution_count": null,
   "id": "dcefe831-a683-4598-8e19-fe2ab7f50c7c",
   "metadata": {},
   "outputs": [],
   "source": [
    "class Car:\n",
    "    def __init__(self, make, model, year):\n",
    "        self.make = make\n",
    "        self.model = model\n",
    "        self.year = year\n",
    "\n",
    "    def display_info(self):\n",
    "        print(f\"{self.year} {self.make} {self.model}\")\n",
    "\n",
    "my_car = Car(\"Toyota\", \"Corolla\", 2021)\n",
    "my_car.display_info()"
   ]
  },
  {
   "cell_type": "markdown",
   "id": "26cbe6ba-ac05-4616-9549-2ef5a2d67ee2",
   "metadata": {},
   "source": [
    "The `__init__` method in Python is a special method called a constructor. It is automatically invoked when a new instance of a class is created. The primary purpose of the __init__ method is to initialize the attributes of the new object."
   ]
  },
  {
   "cell_type": "markdown",
   "id": "5cf5128d-9deb-4e51-a98c-1d601c5b39f2",
   "metadata": {},
   "source": [
    "## Python OOPs Concepts"
   ]
  },
  {
   "cell_type": "markdown",
   "id": "e0fc6ebe-6bec-4cb4-b604-3302125fbf6e",
   "metadata": {},
   "source": [
    "- **Abstraction**\n",
    "- **Encapsulation**\n",
    "- **Inheritance**\n",
    "- **Polymorphism**"
   ]
  },
  {
   "cell_type": "markdown",
   "id": "61d3efec-ff9c-4e39-a601-1efc0c355564",
   "metadata": {},
   "source": [
    "### Inheritance \n",
    "It is a fundamental concept in object-oriented programming (OOP) that allows a new class, known as a child or subclass, to inherit attributes and methods from an existing class, known as a parent or superclass."
   ]
  },
  {
   "cell_type": "markdown",
   "id": "af6f6d2b-5f2f-4dd5-b267-52da9c5ecae6",
   "metadata": {},
   "source": [
    "A **parent class**, also known as a superclass or base class, is a class that is inherited by another class called the child class (subclass or derived class). The parent class provides the foundational attributes and methods that the child class can use and extend."
   ]
  },
  {
   "cell_type": "markdown",
   "id": "12f46266-9391-4318-89a3-89ce79a3dfe1",
   "metadata": {},
   "source": [
    "A **child class**, also known as a subclass or derived class, is a class that inherits attributes and methods from another class called the parent class (superclass or base class). "
   ]
  },
  {
   "cell_type": "code",
   "execution_count": null,
   "id": "9d5fb6f4-c8a4-4734-918e-1a84eb07202d",
   "metadata": {},
   "outputs": [],
   "source": [
    "class Animal:\n",
    "    def __init__(self, name):\n",
    "        self.name = name\n",
    "\n",
    "    def speak(self):\n",
    "        return f\"{self.name} makes a sound.\"\n",
    "\n",
    "# Child classes\n",
    "class Dog(Animal):\n",
    "    def speak(self):\n",
    "        return f\"{self.name} says Woof!\"\n",
    "\n",
    "class Cat(Animal):\n",
    "    def speak(self):\n",
    "        return f\"{self.name} says Meow!\"\n",
    "        ```"
   ]
  },
  {
   "cell_type": "markdown",
   "id": "62f37ab6-fcec-4549-a3be-e62acd1817cd",
   "metadata": {},
   "source": [
    "The `super()` function in Python is used to call a method from a parent class. It is commonly used in the context of inheritance to ensure that a method from a parent class is properly called, often within an overridden method in a subclass. This allows a subclass to extend or modify the behavior of a parent class method while still retaining the original functionality.\n",
    "\n"
   ]
  },
  {
   "cell_type": "code",
   "execution_count": null,
   "id": "0c580a16-0fff-4368-831e-75da5a334422",
   "metadata": {},
   "outputs": [],
   "source": [
    "class Animal:\n",
    "    def __init__(self, name):\n",
    "        self.name = name\n",
    "\n",
    "    def speak(self):\n",
    "        return f\"{self.name} makes a sound\"\n",
    "\n",
    "class Dog(Animal):\n",
    "    def __init__(self, name, breed):\n",
    "        super().__init__(name)\n",
    "        self.breed = breed\n",
    "\n",
    "    def speak(self):\n",
    "        return f\"{self.name} barks\"\n",
    "\n",
    "# Creating an instance of Dog\n",
    "dog = Dog(\"Buddy\", \"Golden Retriever\")\n",
    "print(dog.speak())"
   ]
  },
  {
   "cell_type": "markdown",
   "id": "d02e7d24-d3a2-45b3-9692-a0dbd98a76ba",
   "metadata": {},
   "source": [
    "### Polymorphism \n",
    "It is a fundamental concept in object-oriented programming (OOP) that refers to the ability of different classes to be treated as instances of the same class through a common interface. It allows methods to do different things based on the object it is acting upon, even though they share the same name."
   ]
  },
  {
   "cell_type": "code",
   "execution_count": null,
   "id": "f5a33a5d-e1a3-4a28-a0fc-64c329a142ae",
   "metadata": {},
   "outputs": [],
   "source": [
    "class Rectangle:\n",
    "    def __init__(self, width, height):\n",
    "        self.width = width\n",
    "        self.height = height\n",
    "\n",
    "    def draw(self):\n",
    "        return f\"Drawing a rectangle with width {self.width} and height {self.height}\"\n",
    "\n",
    "class Circle:\n",
    "    def __init__(self, radius):\n",
    "        self.radius = radius\n",
    "\n",
    "    def draw(self):\n",
    "        return f\"Drawing a circle with radius {self.radius}\"\n",
    "\n",
    "class Triangle:\n",
    "    def __init__(self, base, height):\n",
    "        self.base = base\n",
    "        self.height = height\n",
    "\n",
    "    def draw(self):\n",
    "        return f\"Drawing a triangle with base {self.base} and height {self.height}\""
   ]
  },
  {
   "cell_type": "markdown",
   "id": "0b7fc6cb-4062-42e2-82b3-8a47c9cbbf46",
   "metadata": {},
   "source": [
    "### Method Overloading\n",
    "Method overloading is a feature that allows a class to have more than one method with the same name, but with different parameters (different type, number, or both). It is a way to implement polymorphism."
   ]
  },
  {
   "cell_type": "code",
   "execution_count": null,
   "id": "84d23191-77b7-43c7-a941-283fa94eba59",
   "metadata": {},
   "outputs": [],
   "source": [
    "class MathOperations:\n",
    "    def add(self, a, b, c=0):\n",
    "        return a + b + c\n",
    "\n",
    "math_op = MathOperations()\n",
    "print(math_op.add(1, 2))    \n",
    "print(math_op.add(1, 2, 3))"
   ]
  },
  {
   "cell_type": "markdown",
   "id": "310a38d9-74f2-4892-b702-7fb2f192d5d7",
   "metadata": {},
   "source": [
    "### Method Overriding\n",
    "Method overriding occurs when a subclass provides a specific implementation of a method that is already defined in its superclass. The method in the subclass has the same name, return type, and parameters as the one in the superclass."
   ]
  },
  {
   "cell_type": "code",
   "execution_count": null,
   "id": "35df4df3-11e9-4881-92d6-11d78a8cfcd0",
   "metadata": {},
   "outputs": [],
   "source": [
    "class Animal:\n",
    "    def speak(self):\n",
    "        return \"Some generic sound\"\n",
    "\n",
    "class Dog(Animal):\n",
    "    def speak(self):\n",
    "        return \"Woof!\"\n",
    "\n",
    "class Cat(Animal):\n",
    "    def speak(self):\n",
    "        return \"Meow!\""
   ]
  },
  {
   "cell_type": "markdown",
   "id": "a8386c84-43df-490b-9bbd-f1397c8b3202",
   "metadata": {},
   "source": [
    "Both method overloading and method overriding are mechanisms to achieve polymorphism in object-oriented programming. Overloading focuses on defining multiple methods with the same name but different signatures, while overriding allows a subclass to alter the behavior of a method inherited from a superclass."
   ]
  },
  {
   "cell_type": "markdown",
   "id": "cc7143a2-e5ee-4170-9036-ec19d3236002",
   "metadata": {},
   "source": [
    "### Abstraction\n",
    "Abstraction is a fundamental concept in object-oriented programming (OOP) that involves simplifying complex systems by modeling classes appropriate to the problem, and working at the most relevant level of inheritance for a particular aspect of the problem. It focuses on hiding the complex implementation details and showing only the essential features and interactions of an object. "
   ]
  },
  {
   "cell_type": "code",
   "execution_count": null,
   "id": "6140c94d-39ab-463e-b2f6-fa8735036e9c",
   "metadata": {},
   "outputs": [],
   "source": [
    "from abc import ABC, abstractmethod\n",
    "\n",
    "class Shape(ABC):\n",
    "    @abstractmethod\n",
    "    def area(self):\n",
    "        pass\n",
    "\n",
    "    @abstractmethod\n",
    "    def perimeter(self):\n",
    "        pass\n",
    "\n",
    "class Rectangle(Shape):\n",
    "    def __init__(self, width, height):\n",
    "        self.width = width\n",
    "        self.height = height\n",
    "\n",
    "    def area(self):\n",
    "        return self.width * self.height\n",
    "\n",
    "    def perimeter(self):\n",
    "        return 2 * (self.width + self.height)\n",
    "\n",
    "class Circle(Shape):\n",
    "    def __init__(self, radius):\n",
    "        self.radius = radius\n",
    "\n",
    "    def area(self):\n",
    "        return 3.14159 * self.radius * self.radius\n",
    "\n",
    "    def perimeter(self):\n",
    "        return 2 * 3.14159 * self.radius\n",
    "\n",
    "# Creating objects of Rectangle and Circle\n",
    "rect = Rectangle(4, 5)\n",
    "circle = Circle(3)\n",
    "\n",
    "print(f\"Rectangle Area: {rect.area()}, Perimeter: {rect.perimeter()}\")\n",
    "print(f\"Circle Area: {circle.area()}, Perimeter: {circle.perimeter()}\")"
   ]
  },
  {
   "cell_type": "markdown",
   "id": "69c1a7f5-5d65-4ea2-93d3-d3bf093142e6",
   "metadata": {},
   "source": [
    "### Encapsulation\n",
    "\n",
    "Encapsulation is the practice of bundling the data (attributes) and the methods (functions) that operate on the data into a single unit, called a class. It restricts access to some of the object's components, which means the internal representation of an object is hidden from the outside."
   ]
  },
  {
   "cell_type": "code",
   "execution_count": null,
   "id": "1a1a89f4-fddb-4662-bffe-86d7e3602995",
   "metadata": {},
   "outputs": [],
   "source": [
    "class Employee:\n",
    "    def __init__(self, name, salary):\n",
    "        self.__name = name  # Private attribute\n",
    "        self.__salary = salary  # Private attribute\n",
    "\n",
    "    def display_employee(self):\n",
    "        print(f\"Name: {self.__name}, Salary: {self.__salary}\")\n",
    "\n",
    "emp = Employee(\"John\", 50000)\n",
    "emp.display_employee()"
   ]
  },
  {
   "cell_type": "markdown",
   "id": "2e7257e4-c048-4cf8-ad3a-4d6a3abc2381",
   "metadata": {},
   "source": [
    "## Sample Python Project"
   ]
  },
  {
   "cell_type": "markdown",
   "metadata": {},
   "source": [
    "This project showcases a simple banking system using Python OOP. It defines an abstract `BankAccount` class with `SavingsAccount` and `CheckingAccount` subclasses, implementing deposit and withdrawal methods. Practical applications include managing account transactions, displaying balances, and ensuring sufficient funds for withdrawals. "
   ]
  },
  {
   "cell_type": "code",
   "execution_count": null,
   "id": "b8db23eb-3c1f-452d-823d-52769baec7c9",
   "metadata": {},
   "outputs": [],
   "source": [
    "# Define the Base Class and Abstract Methods\n",
    "from abc import ABC, abstractmethod\n",
    "\n",
    "class BankAccount(ABC):\n",
    "    def __init__(self, account_number, balance=0.0):\n",
    "        self._account_number = account_number\n",
    "        self._balance = balance\n",
    "\n",
    "    def get_balance(self):\n",
    "        return self._balance\n",
    "\n",
    "    @abstractmethod\n",
    "    def account_type(self):\n",
    "        pass\n",
    "\n",
    "class Transaction(ABC):\n",
    "    @abstractmethod\n",
    "    def deposit(self, amount):\n",
    "        pass\n",
    "\n",
    "    @abstractmethod\n",
    "    def withdraw(self, amount):\n",
    "        pass\n",
    "\n",
    "# Define Derived Classes\n",
    "class SavingsAccount(BankAccount, Transaction):\n",
    "    def account_type(self):\n",
    "        return \"Savings Account\"\n",
    "\n",
    "    def deposit(self, amount):\n",
    "        self._balance += amount\n",
    "        print(f\"Deposited {amount} into Savings Account {self._account_number}. New balance: {self._balance}\")\n",
    "\n",
    "    def withdraw(self, amount):\n",
    "        if amount <= self._balance:\n",
    "            self._balance -= amount\n",
    "            print(f\"Withdrew {amount} from Savings Account {self._account_number}. New balance: {self._balance}\")\n",
    "        else:\n",
    "            print(\"Insufficient funds\")\n",
    "\n",
    "class CheckingAccount(BankAccount, Transaction):\n",
    "    def account_type(self):\n",
    "        return \"Checking Account\"\n",
    "\n",
    "    def deposit(self, amount):\n",
    "        self._balance += amount\n",
    "        print(f\"Deposited {amount} into Checking Account {self._account_number}. New balance: {self._balance}\")\n",
    "\n",
    "    def withdraw(self, amount):\n",
    "        if amount <= self._balance:\n",
    "            self._balance -= amount\n",
    "            print(f\"Withdrew {amount} from Checking Account {self._account_number}. New balance: {self._balance}\")\n",
    "        else:\n",
    "            print(\"Insufficient funds\")\n",
    "\n",
    "# Demonstrate the Banking System\n",
    "def main():\n",
    "    # Create a savings account and a checking account\n",
    "    savings = SavingsAccount(\"SA123\", 500)\n",
    "    checking = CheckingAccount(\"CA123\", 1000)\n",
    "\n",
    "    # Perform transactions on the savings account\n",
    "    savings.deposit(200)\n",
    "    savings.withdraw(100)\n",
    "    savings.withdraw(700)\n",
    "\n",
    "    # Perform transactions on the checking account\n",
    "    checking.deposit(300)\n",
    "    checking.withdraw(500)\n",
    "    checking.withdraw(1000)\n",
    "\n",
    "if __name__ == \"__main__\":\n",
    "    main()"
   ]
  }
 ],
 "metadata": {
  "kernelspec": {
   "display_name": "Python 3 (ipykernel)",
   "language": "python",
   "name": "python3"
  },
  "language_info": {
   "codemirror_mode": {
    "name": "ipython",
    "version": 3
   },
   "file_extension": ".py",
   "mimetype": "text/x-python",
   "name": "python",
   "nbconvert_exporter": "python",
   "pygments_lexer": "ipython3",
   "version": "3.11.7"
  }
 },
 "nbformat": 4,
 "nbformat_minor": 5
}
